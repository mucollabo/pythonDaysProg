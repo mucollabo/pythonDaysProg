{
 "cells": [
  {
   "cell_type": "code",
   "execution_count": 36,
   "metadata": {},
   "outputs": [
    {
     "data": {
      "text/plain": [
       "'/Users/charles/Documents/GitHub/pythonDaysProg'"
      ]
     },
     "execution_count": 36,
     "metadata": {},
     "output_type": "execute_result"
    }
   ],
   "source": [
    "import os\n",
    "os.getcwd()"
   ]
  },
  {
   "cell_type": "code",
   "execution_count": 37,
   "metadata": {
    "pycharm": {
     "name": "#%%\n"
    }
   },
   "outputs": [],
   "source": [
    "# os.chdir()\n",
    "# os.listdir()"
   ]
  },
  {
   "cell_type": "code",
   "execution_count": 38,
   "metadata": {
    "pycharm": {
     "name": "#%%\n"
    }
   },
   "outputs": [],
   "source": [
    "f = open('a.txt', 'w')"
   ]
  },
  {
   "cell_type": "code",
   "execution_count": 39,
   "metadata": {
    "pycharm": {
     "name": "#%%\n"
    }
   },
   "outputs": [],
   "source": [
    "f.close()"
   ]
  },
  {
   "cell_type": "code",
   "execution_count": 40,
   "metadata": {
    "pycharm": {
     "name": "#%%\n"
    }
   },
   "outputs": [],
   "source": [
    "# f.write('나는 오늘 파이썬을 한다.')"
   ]
  },
  {
   "cell_type": "code",
   "execution_count": 41,
   "metadata": {
    "pycharm": {
     "name": "#%%\n"
    }
   },
   "outputs": [],
   "source": [
    "f.close()"
   ]
  },
  {
   "cell_type": "code",
   "execution_count": 42,
   "metadata": {
    "pycharm": {
     "name": "#%%\n"
    }
   },
   "outputs": [],
   "source": [
    "f = open('a.txt', 'r')"
   ]
  },
  {
   "cell_type": "code",
   "execution_count": 43,
   "metadata": {},
   "outputs": [
    {
     "data": {
      "text/plain": [
       "''"
      ]
     },
     "execution_count": 43,
     "metadata": {},
     "output_type": "execute_result"
    }
   ],
   "source": [
    "f.read()"
   ]
  },
  {
   "cell_type": "code",
   "execution_count": 44,
   "metadata": {},
   "outputs": [
    {
     "data": {
      "text/plain": [
       "''"
      ]
     },
     "execution_count": 44,
     "metadata": {},
     "output_type": "execute_result"
    }
   ],
   "source": [
    "f.read()"
   ]
  },
  {
   "cell_type": "code",
   "execution_count": 45,
   "metadata": {},
   "outputs": [
    {
     "data": {
      "text/plain": [
       "0"
      ]
     },
     "execution_count": 45,
     "metadata": {},
     "output_type": "execute_result"
    }
   ],
   "source": [
    "f.seek(0)"
   ]
  },
  {
   "cell_type": "code",
   "execution_count": 46,
   "metadata": {},
   "outputs": [
    {
     "data": {
      "text/plain": [
       "''"
      ]
     },
     "execution_count": 46,
     "metadata": {},
     "output_type": "execute_result"
    }
   ],
   "source": [
    "f.read()"
   ]
  },
  {
   "cell_type": "code",
   "execution_count": 47,
   "metadata": {},
   "outputs": [],
   "source": [
    "# f.close()"
   ]
  },
  {
   "cell_type": "code",
   "execution_count": 48,
   "metadata": {},
   "outputs": [],
   "source": [
    "# f = open('b.txt', 'r')"
   ]
  },
  {
   "cell_type": "code",
   "execution_count": 49,
   "metadata": {},
   "outputs": [
    {
     "data": {
      "text/plain": [
       "_io.TextIOWrapper"
      ]
     },
     "execution_count": 49,
     "metadata": {},
     "output_type": "execute_result"
    }
   ],
   "source": [
    "type(f)"
   ]
  },
  {
   "cell_type": "code",
   "execution_count": 50,
   "metadata": {},
   "outputs": [
    {
     "data": {
      "text/plain": [
       "str"
      ]
     },
     "execution_count": 50,
     "metadata": {},
     "output_type": "execute_result"
    }
   ],
   "source": [
    "type(f.read())"
   ]
  },
  {
   "cell_type": "code",
   "execution_count": 51,
   "metadata": {},
   "outputs": [
    {
     "data": {
      "text/plain": [
       "str"
      ]
     },
     "execution_count": 51,
     "metadata": {},
     "output_type": "execute_result"
    }
   ],
   "source": [
    "f = open('a.txt', 'r')\n",
    "diary = f.read()\n",
    "type(diary)"
   ]
  },
  {
   "cell_type": "code",
   "execution_count": 52,
   "metadata": {},
   "outputs": [
    {
     "name": "stdout",
     "output_type": "stream",
     "text": [
      "\n"
     ]
    }
   ],
   "source": [
    "print(diary)"
   ]
  },
  {
   "cell_type": "code",
   "execution_count": 53,
   "metadata": {},
   "outputs": [
    {
     "name": "stdout",
     "output_type": "stream",
     "text": [
      "\n"
     ]
    }
   ],
   "source": [
    "print(diary[:5])"
   ]
  },
  {
   "cell_type": "code",
   "execution_count": 54,
   "metadata": {},
   "outputs": [],
   "source": [
    "f.close()"
   ]
  },
  {
   "cell_type": "markdown",
   "metadata": {},
   "source": [
    "### 파일내용 추가 모드 'a'"
   ]
  },
  {
   "cell_type": "markdown",
   "metadata": {},
   "source": [
    "### 정규표현식으로 문자열 다루기"
   ]
  },
  {
   "cell_type": "code",
   "execution_count": 55,
   "metadata": {},
   "outputs": [],
   "source": [
    "import re"
   ]
  },
  {
   "cell_type": "code",
   "execution_count": 56,
   "metadata": {},
   "outputs": [],
   "source": [
    "example = '이동민 교수님은 다음과 같이 설명했습니다(이동민, 2019). 그런데 다른 교수님은 이 문제에 대해서 다른 견해를 가지고 있습니다.(최재영, 2019). 또 다른 견해도 있었습니다.(Lion, 2018)'"
   ]
  },
  {
   "cell_type": "code",
   "execution_count": 57,
   "metadata": {},
   "outputs": [],
   "source": [
    "result = re.findall(r'\\([A-Za-z가-힣]+, \\d+\\)', example)"
   ]
  },
  {
   "cell_type": "code",
   "execution_count": 58,
   "metadata": {},
   "outputs": [
    {
     "data": {
      "text/plain": [
       "['(이동민, 2019)', '(최재영, 2019)', '(Lion, 2018)']"
      ]
     },
     "execution_count": 58,
     "metadata": {},
     "output_type": "execute_result"
    }
   ],
   "source": [
    "result"
   ]
  },
  {
   "cell_type": "markdown",
   "metadata": {},
   "source": [
    "### match 메서드 - 문자열 도입에서 패턴 찾기"
   ]
  },
  {
   "cell_type": "code",
   "execution_count": 59,
   "metadata": {},
   "outputs": [],
   "source": [
    "import re"
   ]
  },
  {
   "cell_type": "code",
   "execution_count": 60,
   "metadata": {},
   "outputs": [],
   "source": [
    "pattern = r'life'\n",
    "script = 'life'"
   ]
  },
  {
   "cell_type": "code",
   "execution_count": 61,
   "metadata": {},
   "outputs": [
    {
     "data": {
      "text/plain": [
       "<re.Match object; span=(0, 4), match='life'>"
      ]
     },
     "execution_count": 61,
     "metadata": {},
     "output_type": "execute_result"
    }
   ],
   "source": [
    "re.match(pattern, script)"
   ]
  },
  {
   "cell_type": "code",
   "execution_count": 62,
   "metadata": {},
   "outputs": [
    {
     "data": {
      "text/plain": [
       "'life'"
      ]
     },
     "execution_count": 62,
     "metadata": {},
     "output_type": "execute_result"
    }
   ],
   "source": [
    "re.match(pattern, script).group()"
   ]
  },
  {
   "cell_type": "code",
   "execution_count": 64,
   "metadata": {},
   "outputs": [
    {
     "ename": "AttributeError",
     "evalue": "'NoneType' object has no attribute 'group'",
     "output_type": "error",
     "traceback": [
      "\u001B[0;31m---------------------------------------------------------------------------\u001B[0m",
      "\u001B[0;31mAttributeError\u001B[0m                            Traceback (most recent call last)",
      "\u001B[0;32m/var/folders/6x/69bq11g51vnfm5ndy6x__4v80000gn/T/ipykernel_13001/3546929899.py\u001B[0m in \u001B[0;36m<module>\u001B[0;34m\u001B[0m\n\u001B[0;32m----> 1\u001B[0;31m \u001B[0mre\u001B[0m\u001B[0;34m.\u001B[0m\u001B[0mmatch\u001B[0m\u001B[0;34m(\u001B[0m\u001B[0;34mr'life'\u001B[0m\u001B[0;34m,\u001B[0m \u001B[0;34m'animal'\u001B[0m\u001B[0;34m)\u001B[0m\u001B[0;34m.\u001B[0m\u001B[0mgroup\u001B[0m\u001B[0;34m(\u001B[0m\u001B[0;34m)\u001B[0m\u001B[0;34m\u001B[0m\u001B[0;34m\u001B[0m\u001B[0m\n\u001B[0m",
      "\u001B[0;31mAttributeError\u001B[0m: 'NoneType' object has no attribute 'group'"
     ]
    }
   ],
   "source": [
    "re.match(r'life', 'animal').group()"
   ]
  },
  {
   "cell_type": "code",
   "execution_count": 65,
   "metadata": {},
   "outputs": [],
   "source": [
    "def refinder(pattern, script):\n",
    "    if re.match(pattern, script):\n",
    "        print('Match!')\n",
    "    else:\n",
    "        print('Not a match!')"
   ]
  },
  {
   "cell_type": "code",
   "execution_count": 66,
   "metadata": {},
   "outputs": [
    {
     "name": "stdout",
     "output_type": "stream",
     "text": [
      "Match!\n"
     ]
    }
   ],
   "source": [
    "pattern = r'Life'\n",
    "script = 'Life is so cool'\n",
    "refinder(pattern, script)"
   ]
  },
  {
   "cell_type": "code",
   "execution_count": 67,
   "metadata": {},
   "outputs": [
    {
     "name": "stdout",
     "output_type": "stream",
     "text": [
      "Not a match!\n"
     ]
    }
   ],
   "source": [
    "pattern = r'life'\n",
    "script = 'Life is so cool'\n",
    "refinder(pattern, script)"
   ]
  },
  {
   "cell_type": "code",
   "execution_count": 68,
   "metadata": {},
   "outputs": [
    {
     "name": "stdout",
     "output_type": "stream",
     "text": [
      "Not a match!\n"
     ]
    }
   ],
   "source": [
    "pattern = r'is'\n",
    "script = 'Life is so cool'\n",
    "refinder(pattern, script)"
   ]
  },
  {
   "cell_type": "code",
   "execution_count": 69,
   "metadata": {},
   "outputs": [
    {
     "data": {
      "text/plain": [
       "'is'"
      ]
     },
     "execution_count": 69,
     "metadata": {},
     "output_type": "execute_result"
    }
   ],
   "source": [
    "re.search(pattern, script).group()"
   ]
  },
  {
   "cell_type": "code",
   "execution_count": 70,
   "metadata": {},
   "outputs": [
    {
     "data": {
      "text/plain": [
       "'Life'"
      ]
     },
     "execution_count": 70,
     "metadata": {},
     "output_type": "execute_result"
    }
   ],
   "source": [
    "re.search(r'Life', script).group()"
   ]
  },
  {
   "cell_type": "code",
   "execution_count": 71,
   "metadata": {},
   "outputs": [
    {
     "data": {
      "text/plain": [
       "'cool'"
      ]
     },
     "execution_count": 71,
     "metadata": {},
     "output_type": "execute_result"
    }
   ],
   "source": [
    "re.search(r'cool', script).group()"
   ]
  },
  {
   "cell_type": "code",
   "execution_count": 72,
   "metadata": {
    "scrolled": true
   },
   "outputs": [
    {
     "ename": "AttributeError",
     "evalue": "'NoneType' object has no attribute 'group'",
     "output_type": "error",
     "traceback": [
      "\u001B[0;31m---------------------------------------------------------------------------\u001B[0m",
      "\u001B[0;31mAttributeError\u001B[0m                            Traceback (most recent call last)",
      "\u001B[0;32m/var/folders/6x/69bq11g51vnfm5ndy6x__4v80000gn/T/ipykernel_13001/17408451.py\u001B[0m in \u001B[0;36m<module>\u001B[0;34m\u001B[0m\n\u001B[0;32m----> 1\u001B[0;31m \u001B[0mre\u001B[0m\u001B[0;34m.\u001B[0m\u001B[0mmatch\u001B[0m\u001B[0;34m(\u001B[0m\u001B[0;34mr'cool'\u001B[0m\u001B[0;34m,\u001B[0m \u001B[0mscript\u001B[0m\u001B[0;34m)\u001B[0m\u001B[0;34m.\u001B[0m\u001B[0mgroup\u001B[0m\u001B[0;34m(\u001B[0m\u001B[0;34m)\u001B[0m\u001B[0;34m\u001B[0m\u001B[0;34m\u001B[0m\u001B[0m\n\u001B[0m",
      "\u001B[0;31mAttributeError\u001B[0m: 'NoneType' object has no attribute 'group'"
     ]
    }
   ],
   "source": [
    "re.match(r'cool', script).group()"
   ]
  },
  {
   "cell_type": "code",
   "execution_count": 73,
   "metadata": {},
   "outputs": [
    {
     "data": {
      "text/plain": [
       "'Life'"
      ]
     },
     "execution_count": 73,
     "metadata": {},
     "output_type": "execute_result"
    }
   ],
   "source": [
    "re.match(r'Life', script).group()"
   ]
  },
  {
   "cell_type": "code",
   "execution_count": 74,
   "metadata": {},
   "outputs": [],
   "source": [
    "number = 'My number is 760724-1****** and your number is 500216-2******'"
   ]
  },
  {
   "cell_type": "code",
   "execution_count": 75,
   "metadata": {},
   "outputs": [
    {
     "data": {
      "text/plain": [
       "['760724', '500216']"
      ]
     },
     "execution_count": 75,
     "metadata": {},
     "output_type": "execute_result"
    }
   ],
   "source": [
    "re.findall('\\d{6}', number)"
   ]
  },
  {
   "cell_type": "code",
   "execution_count": 76,
   "metadata": {},
   "outputs": [],
   "source": [
    "example1 = '저는 91년에 태어났습니다. 97년에는 IMF가 있었습니다. 지금은 2021년입니다.'"
   ]
  },
  {
   "cell_type": "code",
   "execution_count": 77,
   "metadata": {},
   "outputs": [
    {
     "data": {
      "text/plain": [
       "['91년에 태어났습니다. 97년에는 IMF가 있었습니다. 지금은 2021년']"
      ]
     },
     "execution_count": 77,
     "metadata": {},
     "output_type": "execute_result"
    }
   ],
   "source": [
    "re.findall(r'\\d.+년', example1)"
   ]
  },
  {
   "cell_type": "code",
   "execution_count": 78,
   "metadata": {},
   "outputs": [
    {
     "data": {
      "text/plain": [
       "['91년', '97년', '2021년']"
      ]
     },
     "execution_count": 78,
     "metadata": {},
     "output_type": "execute_result"
    }
   ],
   "source": [
    "re.findall(r'\\d.+?년', example1)"
   ]
  },
  {
   "cell_type": "code",
   "execution_count": 79,
   "metadata": {},
   "outputs": [
    {
     "data": {
      "text/plain": [
       "['91년', '97년', '2021년']"
      ]
     },
     "execution_count": 79,
     "metadata": {},
     "output_type": "execute_result"
    }
   ],
   "source": [
    "re.findall(r'\\d+.?년', example1)"
   ]
  },
  {
   "cell_type": "code",
   "execution_count": 80,
   "metadata": {},
   "outputs": [],
   "source": [
    "result = re.findall(r'\\(.+\\)', example)"
   ]
  },
  {
   "cell_type": "code",
   "execution_count": 81,
   "metadata": {},
   "outputs": [
    {
     "data": {
      "text/plain": [
       "['(이동민, 2019). 그런데 다른 교수님은 이 문제에 대해서 다른 견해를 가지고 있습니다.(최재영, 2019). 또 다른 견해도 있었습니다.(Lion, 2018)']"
      ]
     },
     "execution_count": 81,
     "metadata": {},
     "output_type": "execute_result"
    }
   ],
   "source": [
    "result"
   ]
  },
  {
   "cell_type": "code",
   "execution_count": 82,
   "metadata": {},
   "outputs": [],
   "source": [
    "result = re.findall(r'\\(.+?\\)', example)"
   ]
  },
  {
   "cell_type": "code",
   "execution_count": 83,
   "metadata": {},
   "outputs": [
    {
     "data": {
      "text/plain": [
       "['(이동민, 2019)', '(최재영, 2019)', '(Lion, 2018)']"
      ]
     },
     "execution_count": 83,
     "metadata": {},
     "output_type": "execute_result"
    }
   ],
   "source": [
    "result"
   ]
  },
  {
   "cell_type": "code",
   "execution_count": 84,
   "metadata": {},
   "outputs": [],
   "source": [
    "result = re.findall(r'\\(+.\\)', example)"
   ]
  },
  {
   "cell_type": "code",
   "execution_count": 85,
   "metadata": {},
   "outputs": [
    {
     "data": {
      "text/plain": [
       "[]"
      ]
     },
     "execution_count": 85,
     "metadata": {},
     "output_type": "execute_result"
    }
   ],
   "source": [
    "result"
   ]
  },
  {
   "cell_type": "markdown",
   "metadata": {},
   "source": [
    "### split 메서드 - 문장 나누는 패턴 만들기"
   ]
  },
  {
   "cell_type": "code",
   "execution_count": 86,
   "metadata": {},
   "outputs": [],
   "source": [
    "sentence = 'I have a lovely dog, really. I am not telling a lie. What a pretty dog! I love this dog.'"
   ]
  },
  {
   "cell_type": "code",
   "execution_count": 87,
   "metadata": {},
   "outputs": [
    {
     "data": {
      "text/plain": [
       "['I have a lovely dog, really',\n",
       " ' I am not telling a lie',\n",
       " ' What a pretty dog',\n",
       " ' I love this dog',\n",
       " '']"
      ]
     },
     "execution_count": 87,
     "metadata": {},
     "output_type": "execute_result"
    }
   ],
   "source": [
    "re.split(r'[.?!]', sentence)"
   ]
  },
  {
   "cell_type": "code",
   "execution_count": 88,
   "metadata": {},
   "outputs": [],
   "source": [
    "data = 'a:3;b:4;c:5'"
   ]
  },
  {
   "cell_type": "code",
   "execution_count": 89,
   "metadata": {},
   "outputs": [
    {
     "name": "stdout",
     "output_type": "stream",
     "text": [
      "a:3\n",
      "b:4\n",
      "c:5\n"
     ]
    }
   ],
   "source": [
    "for i in re.split(r';', data):\n",
    "    print(i)"
   ]
  },
  {
   "cell_type": "code",
   "execution_count": 90,
   "metadata": {},
   "outputs": [
    {
     "name": "stdout",
     "output_type": "stream",
     "text": [
      "['a', '3']\n",
      "['b', '4']\n",
      "['c', '5']\n"
     ]
    }
   ],
   "source": [
    "for i in re.split(r';', data):\n",
    "    print(re.split(r':', i))"
   ]
  },
  {
   "cell_type": "code",
   "execution_count": 91,
   "metadata": {},
   "outputs": [
    {
     "data": {
      "text/plain": [
       "'I have a lovely cat, really. I am not telling a lie. What a pretty cat! I love this cat.'"
      ]
     },
     "execution_count": 91,
     "metadata": {},
     "output_type": "execute_result"
    }
   ],
   "source": [
    "re.sub(r'dog', 'cat', sentence)"
   ]
  },
  {
   "cell_type": "code",
   "execution_count": 92,
   "metadata": {},
   "outputs": [],
   "source": [
    "words = 'I am home now. \\n\\n\\nI am with my cat.\\n\\n'"
   ]
  },
  {
   "cell_type": "code",
   "execution_count": 93,
   "metadata": {},
   "outputs": [
    {
     "name": "stdout",
     "output_type": "stream",
     "text": [
      "I am home now. \n",
      "\n",
      "\n",
      "I am with my cat.\n",
      "\n",
      "\n"
     ]
    }
   ],
   "source": [
    "print(words)"
   ]
  },
  {
   "cell_type": "code",
   "execution_count": 94,
   "metadata": {},
   "outputs": [
    {
     "data": {
      "text/plain": [
       "'I am home now. I am with my cat.'"
      ]
     },
     "execution_count": 94,
     "metadata": {},
     "output_type": "execute_result"
    }
   ],
   "source": [
    "re.sub(r'\\n', '', words)"
   ]
  },
  {
   "cell_type": "code",
   "execution_count": 95,
   "metadata": {},
   "outputs": [],
   "source": [
    "sentence = 'I have a lovely dog, really. I am not telling a lie'"
   ]
  },
  {
   "cell_type": "code",
   "execution_count": 96,
   "metadata": {},
   "outputs": [],
   "source": [
    "result = re.findall(r'\\w+ly', sentence)"
   ]
  },
  {
   "cell_type": "code",
   "execution_count": 97,
   "metadata": {},
   "outputs": [
    {
     "name": "stdout",
     "output_type": "stream",
     "text": [
      "['lovely', 'really']\n"
     ]
    }
   ],
   "source": [
    "print(result)"
   ]
  },
  {
   "cell_type": "code",
   "execution_count": 98,
   "metadata": {},
   "outputs": [],
   "source": [
    "import os, re, codecs"
   ]
  },
  {
   "cell_type": "code",
   "execution_count": 101,
   "metadata": {},
   "outputs": [
    {
     "data": {
      "text/plain": [
       "'/Users/charles/Documents/GitHub/pythonDaysProg'"
      ]
     },
     "execution_count": 101,
     "metadata": {},
     "output_type": "execute_result"
    }
   ],
   "source": [
    "os.getcwd()"
   ]
  },
  {
   "cell_type": "code",
   "execution_count": 102,
   "metadata": {},
   "outputs": [],
   "source": [
    "f = codecs.open('friends101.txt', 'r', encoding = 'utf-8')"
   ]
  },
  {
   "cell_type": "code",
   "execution_count": 103,
   "metadata": {},
   "outputs": [],
   "source": [
    "script101 = f.read()"
   ]
  },
  {
   "cell_type": "code",
   "execution_count": 104,
   "metadata": {},
   "outputs": [
    {
     "name": "stdout",
     "output_type": "stream",
     "text": [
      "The One Where Monica Gets a New Roommate (The Pilot-The Uncut Version)\n",
      "\n",
      "Written by: Marta Kauffman &\n"
     ]
    }
   ],
   "source": [
    "print(script101[:100])"
   ]
  },
  {
   "cell_type": "code",
   "execution_count": 105,
   "metadata": {},
   "outputs": [],
   "source": [
    "Line = re.findall(r'Monica:.+', script101)"
   ]
  },
  {
   "cell_type": "code",
   "execution_count": 107,
   "metadata": {},
   "outputs": [
    {
     "name": "stdout",
     "output_type": "stream",
     "text": [
      "[\"Monica: There's nothing to tell! He's just some guy I work with!\", \"Monica: Okay, everybody relax. This is not even a date. It's just two people going out to dinner and- not having sex.\", \"Monica: And they weren't looking at you before?!\"]\n"
     ]
    }
   ],
   "source": [
    "print(Line[:3])"
   ]
  },
  {
   "cell_type": "code",
   "execution_count": 108,
   "metadata": {},
   "outputs": [
    {
     "name": "stdout",
     "output_type": "stream",
     "text": [
      "Monica: There's nothing to tell! He's just some guy I work with!\n",
      "Monica: Okay, everybody relax. This is not even a date. It's just two people going out to dinner and- not having sex.\n",
      "Monica: And they weren't looking at you before?!\n"
     ]
    }
   ],
   "source": [
    "for item in Line[:3]:\n",
    "    print(item)"
   ]
  },
  {
   "cell_type": "code",
   "execution_count": 109,
   "metadata": {},
   "outputs": [],
   "source": [
    "f.close()"
   ]
  },
  {
   "cell_type": "code",
   "execution_count": 110,
   "metadata": {},
   "outputs": [],
   "source": [
    "f = open('monica.txt', 'w', encoding = 'utf-8')"
   ]
  },
  {
   "cell_type": "code",
   "execution_count": 111,
   "metadata": {},
   "outputs": [],
   "source": [
    "monica = ''"
   ]
  },
  {
   "cell_type": "code",
   "execution_count": 112,
   "metadata": {},
   "outputs": [],
   "source": [
    "for i in Line:\n",
    "    monica += i"
   ]
  },
  {
   "cell_type": "code",
   "execution_count": 113,
   "metadata": {},
   "outputs": [
    {
     "data": {
      "text/plain": [
       "4542"
      ]
     },
     "execution_count": 113,
     "metadata": {},
     "output_type": "execute_result"
    }
   ],
   "source": [
    "f.write(monica)"
   ]
  },
  {
   "cell_type": "code",
   "execution_count": 114,
   "metadata": {},
   "outputs": [],
   "source": [
    "f.close()"
   ]
  },
  {
   "cell_type": "code",
   "execution_count": 115,
   "metadata": {},
   "outputs": [],
   "source": [
    "monica = ''"
   ]
  },
  {
   "cell_type": "code",
   "execution_count": 116,
   "metadata": {},
   "outputs": [],
   "source": [
    "for i in Line:\n",
    "    monica += i + '\\n'"
   ]
  },
  {
   "cell_type": "code",
   "execution_count": 117,
   "metadata": {},
   "outputs": [
    {
     "data": {
      "text/plain": [
       "\"Monica: There's nothing to tell! He's just some guy I work with!\\nMonica: Okay, everybody relax. This\""
      ]
     },
     "execution_count": 117,
     "metadata": {},
     "output_type": "execute_result"
    }
   ],
   "source": [
    "monica[:100]"
   ]
  },
  {
   "cell_type": "code",
   "execution_count": 118,
   "metadata": {},
   "outputs": [],
   "source": [
    "f = open('monica.txt', 'w', encoding = 'utf-8')"
   ]
  },
  {
   "cell_type": "code",
   "execution_count": 119,
   "metadata": {},
   "outputs": [
    {
     "data": {
      "text/plain": [
       "4615"
      ]
     },
     "execution_count": 119,
     "metadata": {},
     "output_type": "execute_result"
    }
   ],
   "source": [
    "f.write(monica)"
   ]
  },
  {
   "cell_type": "code",
   "execution_count": 120,
   "metadata": {},
   "outputs": [],
   "source": [
    "f.close()"
   ]
  },
  {
   "cell_type": "code",
   "execution_count": 121,
   "metadata": {},
   "outputs": [],
   "source": [
    "char = re.compile(r'[A-Z][a-z]+:')"
   ]
  },
  {
   "cell_type": "code",
   "execution_count": 122,
   "metadata": {},
   "outputs": [
    {
     "data": {
      "text/plain": [
       "['Note:',\n",
       " 'Scene:',\n",
       " 'Monica:',\n",
       " 'Joey:',\n",
       " 'Chandler:',\n",
       " 'Phoebe:',\n",
       " 'Phoebe:',\n",
       " 'Monica:',\n",
       " 'Chandler:',\n",
       " 'Chandler:',\n",
       " 'All:',\n",
       " 'Chandler:',\n",
       " 'Joey:',\n",
       " 'Chandler:',\n",
       " 'Joey:',\n",
       " 'Phoebe:',\n",
       " 'Chandler:',\n",
       " 'Monica:',\n",
       " 'Chandler:',\n",
       " 'Ross:',\n",
       " 'Joey:',\n",
       " 'Monica:',\n",
       " 'Ross:',\n",
       " 'Chandler:',\n",
       " 'Monica:',\n",
       " 'Joey:',\n",
       " 'Monica:',\n",
       " 'Ross:',\n",
       " 'Phoebe:',\n",
       " 'Ross:',\n",
       " 'Phoebe:',\n",
       " 'Ross:',\n",
       " 'Monica:',\n",
       " 'Ross:',\n",
       " 'Joey:',\n",
       " 'Ross:',\n",
       " 'Chandler:',\n",
       " 'Ross:',\n",
       " 'Monica:',\n",
       " 'Ross:',\n",
       " 'Joey:',\n",
       " 'Joey:',\n",
       " 'Ross:',\n",
       " 'Chandler:',\n",
       " 'Monica:',\n",
       " 'Rachel:',\n",
       " 'Waitress:',\n",
       " 'Monica:',\n",
       " 'Rachel:',\n",
       " 'Ross:',\n",
       " 'Monica:',\n",
       " 'Rachel:',\n",
       " 'Monica:',\n",
       " 'Rachel:',\n",
       " 'Scene:',\n",
       " 'Monica:',\n",
       " 'Chandler:',\n",
       " 'Ross:',\n",
       " 'Rachel:',\n",
       " 'Phoebe:',\n",
       " 'Chandler:',\n",
       " 'Joey:',\n",
       " 'Joey:',\n",
       " 'Rachel:',\n",
       " 'Ross:',\n",
       " 'Rachel:',\n",
       " 'Monica:',\n",
       " 'Rachel:',\n",
       " 'Monica:',\n",
       " 'Phoebe:',\n",
       " 'Rachel:',\n",
       " 'Phoebe:',\n",
       " 'Monica:',\n",
       " 'Joey:',\n",
       " 'Monica:',\n",
       " 'Joey:',\n",
       " 'Chandler:',\n",
       " 'Paul:',\n",
       " 'Monica:',\n",
       " 'Joey:',\n",
       " 'Ross:',\n",
       " 'Monica:',\n",
       " 'Joey:',\n",
       " 'Ross:',\n",
       " 'Monica:',\n",
       " 'Chandler:',\n",
       " 'Monica:',\n",
       " 'Rachel:',\n",
       " 'Monica:',\n",
       " 'Ross:',\n",
       " 'Monica:',\n",
       " 'Ross:',\n",
       " 'Phoebe:',\n",
       " 'Monica:',\n",
       " 'All:',\n",
       " 'Chandler:',\n",
       " 'Monica:',\n",
       " 'Ross:',\n",
       " 'Monica:',\n",
       " 'Phoebe:',\n",
       " 'Joey:',\n",
       " 'Paul:',\n",
       " 'Joey:',\n",
       " 'Monica:',\n",
       " 'Ross:',\n",
       " 'Rachel:',\n",
       " 'Ross:',\n",
       " 'Chandler:',\n",
       " 'Rachel:',\n",
       " 'Ross:',\n",
       " 'Joey:',\n",
       " 'Phoebe:',\n",
       " 'Scene:',\n",
       " 'Phoebe:',\n",
       " 'Scene:',\n",
       " 'Ross:',\n",
       " 'Joey:',\n",
       " 'Chandler:',\n",
       " 'Joey:',\n",
       " 'Chandler:',\n",
       " 'Joey:',\n",
       " 'Chandler:',\n",
       " 'Joey:',\n",
       " 'Chandler:',\n",
       " 'Ross:',\n",
       " 'Joey:',\n",
       " 'Chandler:',\n",
       " 'Joey:',\n",
       " 'Ross:',\n",
       " 'Chandler:',\n",
       " 'Joey:',\n",
       " 'Chandler:',\n",
       " 'Scene:',\n",
       " 'Monica:',\n",
       " 'Paul:',\n",
       " 'Monica:',\n",
       " 'Paul:',\n",
       " 'Monica:',\n",
       " 'Paul:',\n",
       " 'Monica:',\n",
       " 'Paul:',\n",
       " 'Monica:',\n",
       " 'Scene:',\n",
       " 'Rachel:',\n",
       " 'Scene:',\n",
       " 'Ross:',\n",
       " 'Joey:',\n",
       " 'Chandler:',\n",
       " 'Ross:',\n",
       " 'Chandler:',\n",
       " 'Ross:',\n",
       " 'Joey:',\n",
       " 'Ross:',\n",
       " 'Chandler:',\n",
       " 'Scene:',\n",
       " 'Paul:',\n",
       " 'Monica:',\n",
       " 'Paul:',\n",
       " 'Monica:',\n",
       " 'Paul:',\n",
       " 'Monica:',\n",
       " 'Paul:',\n",
       " 'Monica:',\n",
       " 'Paul:',\n",
       " 'Monica:',\n",
       " 'Paul:',\n",
       " 'Monica:',\n",
       " 'Paul:',\n",
       " 'Monica:',\n",
       " 'Scene:',\n",
       " 'Rachel:',\n",
       " 'Scene:',\n",
       " 'Ross:',\n",
       " 'Joey:',\n",
       " 'Chandler:',\n",
       " 'Joey:',\n",
       " 'Ross:',\n",
       " 'Scene:',\n",
       " 'Rachel:',\n",
       " 'Chandler:',\n",
       " 'Joey:',\n",
       " 'Rachel:',\n",
       " 'Chandler:',\n",
       " 'Joey:',\n",
       " 'Monica:',\n",
       " 'All:',\n",
       " 'Paul:',\n",
       " 'Joey:',\n",
       " 'Rachel:',\n",
       " 'Chandler:',\n",
       " 'Paul:',\n",
       " 'Monica:',\n",
       " 'Paul:',\n",
       " 'Monica:',\n",
       " 'Paul:',\n",
       " 'Joey:',\n",
       " 'Monica:',\n",
       " 'All:',\n",
       " 'Chandler:',\n",
       " 'Rachel:',\n",
       " 'Monica:',\n",
       " 'Joey:',\n",
       " 'Rachel:',\n",
       " 'Joey:',\n",
       " 'Monica:',\n",
       " 'Joey:',\n",
       " 'Chandler:',\n",
       " 'Joey:',\n",
       " 'Chandler:',\n",
       " 'Joey:',\n",
       " 'Monica:',\n",
       " 'Rachel:',\n",
       " 'Monica:',\n",
       " 'Rachel:',\n",
       " 'Monica:',\n",
       " 'Rachel:',\n",
       " 'Monica:',\n",
       " 'Rachel:',\n",
       " 'Monica:',\n",
       " 'Rachel:',\n",
       " 'Monica:',\n",
       " 'Rachel:',\n",
       " 'Scene:',\n",
       " 'Frannie:',\n",
       " 'Monica:',\n",
       " 'Frannie:',\n",
       " 'Monica:',\n",
       " 'Frannie:',\n",
       " 'Monica:',\n",
       " 'Frannie:',\n",
       " 'Monica:',\n",
       " 'Frannie:',\n",
       " 'Scene:',\n",
       " 'Joey:',\n",
       " 'Monica:',\n",
       " 'Ross:',\n",
       " 'Monica:',\n",
       " 'Phoebe:',\n",
       " 'Monica:',\n",
       " 'Phoebe:',\n",
       " 'Monica:',\n",
       " 'Joey:',\n",
       " 'Rachel:',\n",
       " 'Ross:',\n",
       " 'Rachel:',\n",
       " 'Chandler:',\n",
       " 'Rachel:',\n",
       " 'Chandler:',\n",
       " 'Rachel:',\n",
       " 'Monica:',\n",
       " 'Rachel:',\n",
       " 'Monica:',\n",
       " 'Rachel:',\n",
       " 'Scene:',\n",
       " 'Rachel:',\n",
       " 'Monica:',\n",
       " 'Rachel:',\n",
       " 'Phoebe:',\n",
       " 'Rachel:',\n",
       " 'Phoebe:',\n",
       " 'Ross:',\n",
       " 'Monica:',\n",
       " 'Rachel:',\n",
       " 'Monica:',\n",
       " 'Rachel:',\n",
       " 'Ross:',\n",
       " 'Ross:',\n",
       " 'All:',\n",
       " 'Rachel:',\n",
       " 'Monica:',\n",
       " 'All:',\n",
       " 'Chandler:',\n",
       " 'Monica:',\n",
       " 'Monica:',\n",
       " 'Ross:',\n",
       " 'Monica:',\n",
       " 'Ross:',\n",
       " 'Rachel:',\n",
       " 'Monica:',\n",
       " 'Rachel:',\n",
       " 'Ross:',\n",
       " 'Rachel:',\n",
       " 'Ross:',\n",
       " 'Rachel:',\n",
       " 'Ross:',\n",
       " 'Rachel:',\n",
       " 'Ross:',\n",
       " 'Rachel:',\n",
       " 'Ross:',\n",
       " 'Rachel:',\n",
       " 'Ross:',\n",
       " 'Rachel:',\n",
       " 'Ross:',\n",
       " 'Rachel:',\n",
       " 'Ross:',\n",
       " 'Monica:',\n",
       " 'Ross:',\n",
       " 'Scene:',\n",
       " 'Joey:',\n",
       " 'Phoebe:',\n",
       " 'Monica:',\n",
       " 'Phoebe:',\n",
       " 'Monica:',\n",
       " 'Phoebe:',\n",
       " 'All:',\n",
       " 'Monica:',\n",
       " 'Joey:',\n",
       " 'Ross:',\n",
       " 'Rachel:',\n",
       " 'Chandler:',\n",
       " 'Rachel:',\n",
       " 'All:',\n",
       " 'Chandler:',\n",
       " 'Customer:',\n",
       " 'Rachel:',\n",
       " 'Chandler:']"
      ]
     },
     "execution_count": 122,
     "metadata": {},
     "output_type": "execute_result"
    }
   ],
   "source": [
    "re.findall(char, script101)"
   ]
  },
  {
   "cell_type": "code",
   "execution_count": 123,
   "metadata": {},
   "outputs": [],
   "source": [
    "a = [1, 2, 3, 4, 5, 2, 2]"
   ]
  },
  {
   "cell_type": "code",
   "execution_count": 124,
   "metadata": {},
   "outputs": [
    {
     "data": {
      "text/plain": [
       "{1, 2, 3, 4, 5}"
      ]
     },
     "execution_count": 124,
     "metadata": {},
     "output_type": "execute_result"
    }
   ],
   "source": [
    "set(a)"
   ]
  },
  {
   "cell_type": "code",
   "execution_count": 125,
   "metadata": {},
   "outputs": [
    {
     "data": {
      "text/plain": [
       "{'All:',\n",
       " 'Chandler:',\n",
       " 'Customer:',\n",
       " 'Frannie:',\n",
       " 'Joey:',\n",
       " 'Monica:',\n",
       " 'Note:',\n",
       " 'Paul:',\n",
       " 'Phoebe:',\n",
       " 'Rachel:',\n",
       " 'Ross:',\n",
       " 'Scene:',\n",
       " 'Waitress:'}"
      ]
     },
     "execution_count": 125,
     "metadata": {},
     "output_type": "execute_result"
    }
   ],
   "source": [
    "set(re.findall(char, script101))"
   ]
  },
  {
   "cell_type": "code",
   "execution_count": 126,
   "metadata": {},
   "outputs": [],
   "source": [
    "rachel = 'Rachel:'"
   ]
  },
  {
   "cell_type": "code",
   "execution_count": 127,
   "metadata": {},
   "outputs": [],
   "source": [
    "rachel = re.sub(':', '', rachel)"
   ]
  },
  {
   "cell_type": "code",
   "execution_count": 128,
   "metadata": {},
   "outputs": [
    {
     "data": {
      "text/plain": [
       "'Rachel'"
      ]
     },
     "execution_count": 128,
     "metadata": {},
     "output_type": "execute_result"
    }
   ],
   "source": [
    "rachel"
   ]
  },
  {
   "cell_type": "code",
   "execution_count": 129,
   "metadata": {},
   "outputs": [],
   "source": [
    "rachel = 'Rachel:'"
   ]
  },
  {
   "cell_type": "code",
   "execution_count": 130,
   "metadata": {},
   "outputs": [
    {
     "data": {
      "text/plain": [
       "'Rachel'"
      ]
     },
     "execution_count": 130,
     "metadata": {},
     "output_type": "execute_result"
    }
   ],
   "source": [
    "rachel[:-1]"
   ]
  },
  {
   "cell_type": "code",
   "execution_count": 131,
   "metadata": {},
   "outputs": [],
   "source": [
    "y = set(re.findall(char, script101))"
   ]
  },
  {
   "cell_type": "code",
   "execution_count": 132,
   "metadata": {},
   "outputs": [],
   "source": [
    "z = list(y)"
   ]
  },
  {
   "cell_type": "code",
   "execution_count": 133,
   "metadata": {},
   "outputs": [],
   "source": [
    "character = []"
   ]
  },
  {
   "cell_type": "code",
   "execution_count": 134,
   "metadata": {},
   "outputs": [],
   "source": [
    "for i in z:\n",
    "    character += [i[:-1]]"
   ]
  },
  {
   "cell_type": "code",
   "execution_count": 135,
   "metadata": {},
   "outputs": [
    {
     "data": {
      "text/plain": [
       "['Chandler',\n",
       " 'Paul',\n",
       " 'Monica',\n",
       " 'Note',\n",
       " 'Rachel',\n",
       " 'Scene',\n",
       " 'Phoebe',\n",
       " 'Joey',\n",
       " 'Ross',\n",
       " 'Frannie',\n",
       " 'Customer',\n",
       " 'Waitress',\n",
       " 'All']"
      ]
     },
     "execution_count": 135,
     "metadata": {},
     "output_type": "execute_result"
    }
   ],
   "source": [
    "character"
   ]
  },
  {
   "cell_type": "code",
   "execution_count": 136,
   "metadata": {},
   "outputs": [],
   "source": [
    "character = [x[:-1] for x in list(set(re.findall(r'[A-Z][a-z]+:', script101)))]"
   ]
  },
  {
   "cell_type": "code",
   "execution_count": 137,
   "metadata": {},
   "outputs": [
    {
     "data": {
      "text/plain": [
       "['Chandler',\n",
       " 'Paul',\n",
       " 'Monica',\n",
       " 'Note',\n",
       " 'Rachel',\n",
       " 'Scene',\n",
       " 'Phoebe',\n",
       " 'Joey',\n",
       " 'Ross',\n",
       " 'Frannie',\n",
       " 'Customer',\n",
       " 'Waitress',\n",
       " 'All']"
      ]
     },
     "execution_count": 137,
     "metadata": {},
     "output_type": "execute_result"
    }
   ],
   "source": [
    "character"
   ]
  },
  {
   "cell_type": "code",
   "execution_count": 138,
   "metadata": {},
   "outputs": [
    {
     "data": {
      "text/plain": [
       "['(The Pilot-The Uncut Version)',\n",
       " '(Note: The previously unseen parts of this episode are shown in blue text.)',\n",
       " '(They all stare, bemused.)',\n",
       " '(mortified)',\n",
       " '(explaining to the others)',\n",
       " '(to Ross)']"
      ]
     },
     "execution_count": 138,
     "metadata": {},
     "output_type": "execute_result"
    }
   ],
   "source": [
    "re.findall(r'\\([A-Za-z].+[a-z|\\.]\\)', script101)[:6]"
   ]
  },
  {
   "cell_type": "code",
   "execution_count": 140,
   "metadata": {},
   "outputs": [
    {
     "data": {
      "text/plain": [
       "'The One Where Monica Gets a New Roommate (The Pilot-The Uncut Version)\\n\\nWritten by: Marta Kauffman &'"
      ]
     },
     "execution_count": 140,
     "metadata": {},
     "output_type": "execute_result"
    }
   ],
   "source": [
    "f = open('friends101.txt', 'r')\n",
    "f.read(100)"
   ]
  },
  {
   "cell_type": "code",
   "execution_count": 141,
   "metadata": {},
   "outputs": [
    {
     "data": {
      "text/plain": [
       "0"
      ]
     },
     "execution_count": 141,
     "metadata": {},
     "output_type": "execute_result"
    }
   ],
   "source": [
    "f.seek(0)"
   ]
  },
  {
   "cell_type": "code",
   "execution_count": 142,
   "metadata": {},
   "outputs": [],
   "source": [
    "sentences = f.readlines()"
   ]
  },
  {
   "cell_type": "code",
   "execution_count": 143,
   "metadata": {},
   "outputs": [
    {
     "data": {
      "text/plain": [
       "['The One Where Monica Gets a New Roommate (The Pilot-The Uncut Version)\\n',\n",
       " '\\n',\n",
       " 'Written by: Marta Kauffman & David Crane\\n']"
      ]
     },
     "execution_count": 143,
     "metadata": {},
     "output_type": "execute_result"
    }
   ],
   "source": [
    "sentences[:3]"
   ]
  },
  {
   "cell_type": "code",
   "execution_count": 144,
   "metadata": {},
   "outputs": [
    {
     "name": "stdout",
     "output_type": "stream",
     "text": [
      "Monica: There's nothing to tell! He's just some guy I work with!\n",
      "\n",
      "Joey: C'mon, you're going out with the guy! There's gotta be something wrong with him!\n",
      "\n",
      "Chandler: All right Joey, be nice.  So does he have a hump? A hump and a hairpiece?\n",
      "\n",
      "Phoebe: Wait, does he eat chalk?\n",
      "\n",
      "Phoebe: Just, 'cause, I don't want her to go through what I went through with Carl- oh!\n",
      "\n"
     ]
    }
   ],
   "source": [
    "for i in sentences[:20]:\n",
    "    if re.match(r'[A-Z][a-z]+:', i):\n",
    "        print(i)"
   ]
  },
  {
   "cell_type": "code",
   "execution_count": 145,
   "metadata": {},
   "outputs": [],
   "source": [
    "lines = [i for i in sentences if re.match(r'[A-Z][a-z]+:', i)]"
   ]
  },
  {
   "cell_type": "code",
   "execution_count": 146,
   "metadata": {},
   "outputs": [
    {
     "data": {
      "text/plain": [
       "[\"Monica: There's nothing to tell! He's just some guy I work with!\\n\",\n",
       " \"Joey: C'mon, you're going out with the guy! There's gotta be something wrong with him!\\n\",\n",
       " 'Chandler: All right Joey, be nice.  So does he have a hump? A hump and a hairpiece?\\n',\n",
       " 'Phoebe: Wait, does he eat chalk?\\n',\n",
       " \"Phoebe: Just, 'cause, I don't want her to go through what I went through with Carl- oh!\\n\",\n",
       " \"Monica: Okay, everybody relax. This is not even a date. It's just two people going out to dinner and- not having sex.\\n\",\n",
       " 'Chandler: Sounds like a date to me.\\n',\n",
       " \"Chandler: Alright, so I'm back in high school, I'm standing in the middle of the cafeteria, and I realize I am totally naked.\\n\",\n",
       " 'All: Oh, yeah. Had that dream.\\n',\n",
       " \"Chandler: Then I look down, and I realize there's a phone... there.\\n\"]"
      ]
     },
     "execution_count": 146,
     "metadata": {},
     "output_type": "execute_result"
    }
   ],
   "source": [
    "lines[:10]"
   ]
  },
  {
   "cell_type": "code",
   "execution_count": 150,
   "metadata": {},
   "outputs": [],
   "source": [
    "would = [i for i in sentences if re.match(r'[A-Z][a-z]+:', i) and re.search('would', i)]"
   ]
  },
  {
   "cell_type": "code",
   "execution_count": 151,
   "metadata": {},
   "outputs": [
    {
     "data": {
      "text/plain": [
       "[\"Rachel: Ooh, I was kinda hoping that wouldn't be an issue... [Scene: Monica's Apartment, everyone is there and watching a Spanish Soap on TV and are trying to figure out what is going on.]\\n\",\n",
       " \"Chandler: I would have to say that is an 'L'-shaped bracket.\\n\",\n",
       " 'Monica: Why?! Why? Why, why would anybody do something like that?\\n',\n",
       " 'Rachel: You would be too if you found John and David boots on sale, fifty percent off!\\n',\n",
       " 'Ross: Oh. Listen, do you think- and try not to let my intense vulnerability become any kind of a factor here- but do you think it would be okay if I asked you out? Sometime? Maybe?\\n',\n",
       " \"Joey: Oh, you wouldn't know a great butt if it came up and bit ya.\\n\"]"
      ]
     },
     "execution_count": 151,
     "metadata": {},
     "output_type": "execute_result"
    }
   ],
   "source": [
    "would"
   ]
  },
  {
   "cell_type": "code",
   "execution_count": 152,
   "metadata": {},
   "outputs": [],
   "source": [
    "take = [i for i in sentences if re.match(r'[A-Z][a-z]+:', i) and re.search('take', i)]"
   ]
  },
  {
   "cell_type": "code",
   "execution_count": 153,
   "metadata": {},
   "outputs": [
    {
     "data": {
      "text/plain": [
       "['Ross: I told mom and dad last night, they seemed to take it pretty well.\\n',\n",
       " \"Paul: Well, ever-ev-... ever since she left me, um, I haven't been able to, uh, perform. (Monica takes a sip of her drink.) ...Sexually.\\n\",\n",
       " 'Joey: I will not take this abuse. (Walks to the door and opens it to leave.)\\n',\n",
       " \"Frannie: Are you kidding? I take credit for Paul. Y'know before me, there was no snap in his turtle for two years.\\n\"]"
      ]
     },
     "execution_count": 153,
     "metadata": {},
     "output_type": "execute_result"
    }
   ],
   "source": [
    "take"
   ]
  },
  {
   "cell_type": "code",
   "execution_count": 154,
   "metadata": {},
   "outputs": [
    {
     "name": "stdout",
     "output_type": "stream",
     "text": [
      "Ross: I told mom and dad last night, they seemed to take it pretty well.\n",
      "\n",
      "Paul: Well, ever-ev-... ever since she left me, um, I haven't been able to, uh, perform. (Monica takes a sip of her drink.) ...Sexually.\n",
      "\n",
      "Joey: I will not take this abuse. (Walks to the door and opens it to leave.)\n",
      "\n",
      "Frannie: Are you kidding? I take credit for Paul. Y'know before me, there was no snap in his turtle for two years.\n",
      "\n"
     ]
    }
   ],
   "source": [
    "for i in take:\n",
    "    print(i)"
   ]
  },
  {
   "cell_type": "code",
   "execution_count": 155,
   "metadata": {},
   "outputs": [],
   "source": [
    "newf = open('would.txt', 'w')"
   ]
  },
  {
   "cell_type": "code",
   "execution_count": 156,
   "metadata": {},
   "outputs": [],
   "source": [
    "newf.writelines(would)"
   ]
  },
  {
   "cell_type": "code",
   "execution_count": 157,
   "metadata": {},
   "outputs": [],
   "source": [
    "newf.close()"
   ]
  },
  {
   "cell_type": "code",
   "execution_count": null,
   "metadata": {},
   "outputs": [],
   "source": []
  }
 ],
 "metadata": {
  "kernelspec": {
   "display_name": "Python 3 (ipykernel)",
   "language": "python",
   "name": "python3"
  },
  "language_info": {
   "codemirror_mode": {
    "name": "ipython",
    "version": 3
   },
   "file_extension": ".py",
   "mimetype": "text/x-python",
   "name": "python",
   "nbconvert_exporter": "python",
   "pygments_lexer": "ipython3",
   "version": "3.7.4"
  }
 },
 "nbformat": 4,
 "nbformat_minor": 1
}