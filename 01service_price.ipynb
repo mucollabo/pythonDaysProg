{
 "cells": [
  {
   "cell_type": "code",
   "execution_count": 23,
   "metadata": {
    "collapsed": true
   },
   "outputs": [],
   "source": [
    "# p65 서비스 가격 출력 프로그램 만들기\n",
    "\n",
    "def service_price():\n",
    "    service = input(\"서비스 종류를 입력하세요 a/b/c: \")\n",
    "    valueAdded = input(\"부가세를 포함합니까? y/n: \")\n",
    "    if valueAdded == 'y':\n",
    "        if service == 'a':\n",
    "            result = 23 * 1.1\n",
    "        elif service == 'b':\n",
    "            result = 40 * 1.1\n",
    "        elif service == 'c':\n",
    "            result = 67 * 1.1\n",
    "\n",
    "\n",
    "    elif valueAdded == 'n':\n",
    "        if service == 'a':\n",
    "            result = 23\n",
    "        elif service == 'b':\n",
    "            result = 40\n",
    "        elif service == 'c':\n",
    "            result = 67\n",
    "\n",
    "\n",
    "    print('물건의 가격은 ' + str(round(result, 1)) + '만 원입니다.')"
   ]
  },
  {
   "cell_type": "code",
   "execution_count": 26,
   "outputs": [
    {
     "name": "stdout",
     "output_type": "stream",
     "text": [
      "물건의 가격은 44.0만 원입니다.\n"
     ]
    }
   ],
   "source": [
    "service_price()"
   ],
   "metadata": {
    "collapsed": false,
    "pycharm": {
     "name": "#%%\n"
    }
   }
  },
  {
   "cell_type": "code",
   "execution_count": null,
   "outputs": [],
   "source": [],
   "metadata": {
    "collapsed": false,
    "pycharm": {
     "name": "#%%\n"
    }
   }
  }
 ],
 "metadata": {
  "kernelspec": {
   "display_name": "Python 3",
   "language": "python",
   "name": "python3"
  },
  "language_info": {
   "codemirror_mode": {
    "name": "ipython",
    "version": 2
   },
   "file_extension": ".py",
   "mimetype": "text/x-python",
   "name": "python",
   "nbconvert_exporter": "python",
   "pygments_lexer": "ipython2",
   "version": "2.7.6"
  }
 },
 "nbformat": 4,
 "nbformat_minor": 0
}