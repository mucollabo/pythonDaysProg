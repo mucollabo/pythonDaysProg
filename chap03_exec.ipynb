{
 "cells": [
  {
   "cell_type": "markdown",
   "id": "ee07b07f",
   "metadata": {},
   "source": [
    "## chap. 03 Exercise"
   ]
  },
  {
   "cell_type": "code",
   "execution_count": 3,
   "id": "1b76084c",
   "metadata": {},
   "outputs": [],
   "source": [
    "import re"
   ]
  },
  {
   "cell_type": "code",
   "execution_count": 4,
   "id": "fd10566b",
   "metadata": {},
   "outputs": [],
   "source": [
    "# 1.\n",
    "\n",
    "words = ['apple', 'cat', 'brave', 'drama', 'arise', 'blow', 'coat', 'above']"
   ]
  },
  {
   "cell_type": "code",
   "execution_count": 5,
   "id": "62606b35",
   "metadata": {},
   "outputs": [
    {
     "name": "stdout",
     "output_type": "stream",
     "text": [
      "apple\n",
      "arise\n",
      "above\n"
     ]
    }
   ],
   "source": [
    "for i in words:\n",
    "    m = re.match(r'a\\D+', i)\n",
    "    if m:\n",
    "        print(i)"
   ]
  },
  {
   "cell_type": "code",
   "execution_count": 77,
   "id": "fbcc4694",
   "metadata": {},
   "outputs": [],
   "source": [
    "# 2.\n",
    "\n",
    "a = '제 이메일 주소는 charles@gmail.com입니다. 오늘 저는 truly@naver.com 라는 주소로 메이을 보내려고 합니다. 저는 truly@gmail.com, mucollabo@gmail.com 라는 메일도 사용하고 있습니다.'"
   ]
  },
  {
   "cell_type": "code",
   "execution_count": 78,
   "id": "ccfe47b9",
   "metadata": {},
   "outputs": [
    {
     "data": {
      "text/plain": [
       "'제 이메일 주소는 charles@gmail.com입니다. 오늘 저는 truly@naver.com 라는 주소로 메이을 보내려고 합니다. 저는 truly@gmail.com, mucollabo@gmail.com 라는 메일도 사용하고 있습니다.'"
      ]
     },
     "execution_count": 78,
     "metadata": {},
     "output_type": "execute_result"
    }
   ],
   "source": [
    "a"
   ]
  },
  {
   "cell_type": "code",
   "execution_count": 83,
   "id": "b093c782",
   "metadata": {},
   "outputs": [],
   "source": [
    "b = re.findall(r'[a-z]+@[a-z.]+', a)"
   ]
  },
  {
   "cell_type": "code",
   "execution_count": 84,
   "id": "258e55ed",
   "metadata": {},
   "outputs": [
    {
     "data": {
      "text/plain": [
       "['charles@gmail.com',\n",
       " 'truly@naver.com',\n",
       " 'truly@gmail.com',\n",
       " 'mucollabo@gmail.com']"
      ]
     },
     "execution_count": 84,
     "metadata": {},
     "output_type": "execute_result"
    }
   ],
   "source": [
    "b"
   ]
  },
  {
   "cell_type": "code",
   "execution_count": 85,
   "id": "f18293b2",
   "metadata": {},
   "outputs": [],
   "source": [
    "# 3.\n",
    "\n",
    "exam = '저는 92년에 태어났습니다. 88년에는 올리픽이 있었습니다. 지금은 2021년입니다.'"
   ]
  },
  {
   "cell_type": "code",
   "execution_count": 95,
   "id": "19975df0",
   "metadata": {},
   "outputs": [
    {
     "data": {
      "text/plain": [
       "['92년', '88년', '2021년']"
      ]
     },
     "execution_count": 95,
     "metadata": {},
     "output_type": "execute_result"
    }
   ],
   "source": [
    "re.findall(r'\\d.+?년', exam)"
   ]
  },
  {
   "cell_type": "code",
   "execution_count": 96,
   "id": "415f20a7",
   "metadata": {},
   "outputs": [],
   "source": [
    "# 4.\n",
    "\n",
    "d = 'I have a dog. I am not a girl. You are not alone. I am happy.'"
   ]
  },
  {
   "cell_type": "code",
   "execution_count": 104,
   "id": "7a175d38",
   "metadata": {},
   "outputs": [
    {
     "data": {
      "text/plain": [
       "['I have a dog', ' I am not a girl', ' You are not alone', ' I am happy', '']"
      ]
     },
     "execution_count": 104,
     "metadata": {},
     "output_type": "execute_result"
    }
   ],
   "source": [
    "re.split(r'\\.', d)"
   ]
  },
  {
   "cell_type": "code",
   "execution_count": 105,
   "id": "f2ca755c",
   "metadata": {},
   "outputs": [],
   "source": [
    "# 5.\n",
    "\n",
    "e = \"Chandler: All right Joey, be nice.  So does he have a hump? A hump and a hair-piece? Phoebe: Wait, does he eat chalk? Phoebe: Just, because, I don't want her to go through what I went through with Carl- oh!\""
   ]
  },
  {
   "cell_type": "code",
   "execution_count": 106,
   "id": "4f8f7652",
   "metadata": {},
   "outputs": [
    {
     "data": {
      "text/plain": [
       "\"Chandler: All right Joey, be nice.  So does he have a hump? A hump and a hair-piece? Phoebe: Wait, does he eat chalk? Phoebe: Just, because, I don't want her to go through what I went through with Carl- oh!\""
      ]
     },
     "execution_count": 106,
     "metadata": {},
     "output_type": "execute_result"
    }
   ],
   "source": [
    "e"
   ]
  },
  {
   "cell_type": "code",
   "execution_count": 109,
   "id": "2935b678",
   "metadata": {},
   "outputs": [],
   "source": [
    "m = re.findall(r'[A-Za-z]+:', e)"
   ]
  },
  {
   "cell_type": "code",
   "execution_count": 110,
   "id": "202ebe86",
   "metadata": {},
   "outputs": [
    {
     "data": {
      "text/plain": [
       "['Chandler:', 'Phoebe:', 'Phoebe:']"
      ]
     },
     "execution_count": 110,
     "metadata": {},
     "output_type": "execute_result"
    }
   ],
   "source": [
    "m"
   ]
  },
  {
   "cell_type": "code",
   "execution_count": 111,
   "id": "bf97d8a4",
   "metadata": {},
   "outputs": [],
   "source": [
    "M = list(set(m))"
   ]
  },
  {
   "cell_type": "code",
   "execution_count": 112,
   "id": "d89587eb",
   "metadata": {},
   "outputs": [
    {
     "data": {
      "text/plain": [
       "['Phoebe:', 'Chandler:']"
      ]
     },
     "execution_count": 112,
     "metadata": {},
     "output_type": "execute_result"
    }
   ],
   "source": [
    "M"
   ]
  },
  {
   "cell_type": "code",
   "execution_count": null,
   "id": "81a5e92d",
   "metadata": {},
   "outputs": [],
   "source": []
  }
 ],
 "metadata": {
  "kernelspec": {
   "display_name": "Python 3 (ipykernel)",
   "language": "python",
   "name": "python3"
  },
  "language_info": {
   "codemirror_mode": {
    "name": "ipython",
    "version": 3
   },
   "file_extension": ".py",
   "mimetype": "text/x-python",
   "name": "python",
   "nbconvert_exporter": "python",
   "pygments_lexer": "ipython3",
   "version": "3.7.4"
  }
 },
 "nbformat": 4,
 "nbformat_minor": 5
}
